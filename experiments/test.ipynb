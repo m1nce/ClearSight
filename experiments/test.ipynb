{
 "cells": [
  {
   "cell_type": "code",
   "execution_count": null,
   "id": "54d3bf7d-8e01-4d3f-bfde-5ea0b60c3761",
   "metadata": {},
   "outputs": [],
   "source": [
    "import os\n",
    "import sys\n",
    "import time\n",
    "import torch\n",
    "from pathlib import Path\n",
    "\n",
    "current_dir = Path('__file__').resolve().parent\n",
    "parent_dir = current_dir.parent\n",
    "sys.path.append(str(parent_dir / 'scripts'))\n",
    "\n",
    "from ConditionClassifier import ConditionClassifier\n",
    "from ConditionDataset import ConditionDataset\n",
    "\n",
    "from torchvision import transforms\n",
    "from torch.utils.data import DataLoader\n",
    "\n",
    "os.chdir(\"..\")"
   ]
  },
  {
   "cell_type": "code",
   "execution_count": null,
   "id": "a6f3f0e9-5704-4995-91e8-f906a23e50f0",
   "metadata": {},
   "outputs": [],
   "source": [
    "# load model from .pth file\n",
    "model_path = \"models/condition_classifier.pth\"\n",
    "weights = torch.load(model_path)\n",
    "model = ConditionClassifier()\n",
    "model.load_state_dict(weights)\n",
    "\n",
    "device = torch.device('cuda' if torch.cuda.is_available() else 'cpu')\n",
    "model.to(device)\n",
    "\n",
    "print(\"Model has been loaded with {}!\".format(device.type))"
   ]
  },
  {
   "cell_type": "code",
   "execution_count": null,
   "id": "cdce5ce6-caf7-43a7-839c-d086da402793",
   "metadata": {},
   "outputs": [],
   "source": [
    "transform_train = transforms.Compose([\n",
    "    transforms.Resize((128, 128)),  \n",
    "    transforms.ToTensor(),\n",
    "    transforms.Normalize(mean=[0.485, 0.456, 0.406], std=[0.229, 0.224, 0.225])\n",
    "])"
   ]
  },
  {
   "cell_type": "code",
   "execution_count": null,
   "id": "c57277ae-60b8-4845-8591-6e38dfe3e532",
   "metadata": {},
   "outputs": [],
   "source": [
    "original_train_dir = \"data/cityscapes/train\"\n",
    "augmented_train_dir = \"data/cityscapes/train\"\n",
    "\n",
    "train_dataset = ConditionDataset(original_train_dir, augmented_train_dir, transform=transform_train)\n",
    "train_loader = DataLoader(train_dataset, batch_size=32, shuffle=True)\n",
    "\n",
    "correct = 0\n",
    "total = 0\n",
    "\n",
    "model.eval()\n",
    "with torch.no_grad():\n",
    "    for images, labels in train_loader:\n",
    "        images, labels = images.to(device), labels.to(device)\n",
    "        outputs = model(images)\n",
    "        _, predicted = torch.max(outputs, 1)\n",
    "        correct += (predicted == labels).sum().item()\n",
    "        total += labels.size(0)\n",
    "        \n",
    "train_accuracy = 100 * correct / total\n",
    "print(f\"Train Accuracy: {train_accuracy:.2f}%\")"
   ]
  },
  {
   "cell_type": "code",
   "execution_count": null,
   "id": "287643ae-b1a5-4532-b414-fa393c3d5c97",
   "metadata": {},
   "outputs": [],
   "source": [
    "# Load Validation Dataset\n",
    "original_val_dir = \"data/cityscapes/val\"\n",
    "augmented_val_dir = \"data/aug_cityscapes/val\"\n",
    "\n",
    "val_dataset = ConditionDataset(original_val_dir, augmented_val_dir, transform=transform_train)\n",
    "val_loader = DataLoader(val_dataset, batch_size=32, shuffle=False)\n",
    "\n",
    "# Evaluate accuracy on validation set\n",
    "correct = 0\n",
    "total = 0\n",
    "\n",
    "model.eval()\n",
    "with torch.no_grad():\n",
    "    for images, labels in val_loader:\n",
    "        images, labels = images.to(device), labels.to(device)\n",
    "        outputs = model(images)\n",
    "        _, predicted = torch.max(outputs, 1)\n",
    "        correct += (predicted == labels).sum().item()\n",
    "        total += labels.size(0)\n",
    "\n",
    "val_accuracy = 100 * correct / total\n",
    "print(f\"Validation Accuracy: {val_accuracy:.2f}%\")"
   ]
  },
  {
   "cell_type": "code",
   "execution_count": null,
   "id": "651a1790-ce0d-4eaa-b716-4510fbbb8cbd",
   "metadata": {},
   "outputs": [],
   "source": []
  }
 ],
 "metadata": {
  "kernelspec": {
   "display_name": "Python (clearsight)",
   "language": "python",
   "name": "myenv"
  },
  "language_info": {
   "codemirror_mode": {
    "name": "ipython",
    "version": 3
   },
   "file_extension": ".py",
   "mimetype": "text/x-python",
   "name": "python",
   "nbconvert_exporter": "python",
   "pygments_lexer": "ipython3",
   "version": "3.13.2"
  }
 },
 "nbformat": 4,
 "nbformat_minor": 5
}
