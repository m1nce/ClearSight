{
 "cells": [
  {
   "cell_type": "code",
   "execution_count": null,
   "id": "c0d01097-cf4b-4538-ab6a-a7389580d1d9",
   "metadata": {},
   "outputs": [],
   "source": [
    "import os\n",
    "import sys\n",
    "import torch\n",
    "from pathlib import Path\n",
    "\n",
    "current_dir = Path('__file__').resolve().parent\n",
    "parent_dir = current_dir.parent\n",
    "sys.path.append(str(parent_dir / 'scripts'))\n",
    "\n",
    "from ConditionClassifier import ConditionClassifier\n",
    "from ConditionDataset import ConditionDataset\n",
    "\n",
    "from torchvision import transforms\n",
    "from torchvision.datasets import ImageFolder\n",
    "from torch.utils.data import DataLoader\n",
    "\n",
    "import numpy as np\n",
    "import matplotlib.pyplot as plt\n",
    "\n",
    "# go into parent directory (repository)\n",
    "os.chdir('..')"
   ]
  },
  {
   "cell_type": "code",
   "execution_count": null,
   "id": "b2d2c647-24e5-4607-b3b6-b55fb1f4f540",
   "metadata": {},
   "outputs": [],
   "source": [
    "# Define the transform (preprocessing pipeline)\n",
    "transform = transforms.Compose([\n",
    "    transforms.Resize((128, 128)),  # Resize images\n",
    "    transforms.ToTensor(),  # Convert to PyTorch Tensor\n",
    "    transforms.Normalize(mean=[0.485, 0.456, 0.406], std=[0.229, 0.224, 0.225])  # Normalize\n",
    "])\n",
    "\n",
    "# Define dataset paths\n",
    "original_test_dir = 'data/leftImg8bit/test'\n",
    "augmented_test_dir = 'data/aug_leftImg8bit/test'\n",
    "\n",
    "# Create dataset instance\n",
    "test_dataset = ConditionDataset(original_test_dir, augmented_test_dir, transform=transform)\n",
    "\n",
    "# Create DataLoader\n",
    "test_loader = DataLoader(test_dataset, batch_size=32, shuffle=False)"
   ]
  },
  {
   "cell_type": "code",
   "execution_count": null,
   "id": "884b508a-6b13-49eb-83d7-18468b48c15f",
   "metadata": {},
   "outputs": [],
   "source": [
    "image, label = test_dataset[0]\n",
    "\n",
    "# Convert tensor to image\n",
    "image = image.permute(1, 2, 0).numpy()  # Change dimensions from (C, H, W) to (H, W, C)\n",
    "\n",
    "# Undo normalization (reverse transformation)\n",
    "mean = np.array([0.485, 0.456, 0.406])\n",
    "std = np.array([0.229, 0.224, 0.225])\n",
    "image = (image * std) + mean  # Reverse normalization\n",
    "image = np.clip(image, 0, 1)  # Clip values for display\n",
    "\n",
    "# Display the image\n",
    "plt.imshow(image)\n",
    "plt.title(f\"Label: {label} ({['Clear', 'Foggy', 'Glaring'][label]})\")\n",
    "plt.axis(\"off\")\n",
    "plt.show()"
   ]
  }
 ],
 "metadata": {
  "kernelspec": {
   "display_name": "Python (clearsight)",
   "language": "python",
   "name": "myenv"
  },
  "language_info": {
   "codemirror_mode": {
    "name": "ipython",
    "version": 3
   },
   "file_extension": ".py",
   "mimetype": "text/x-python",
   "name": "python",
   "nbconvert_exporter": "python",
   "pygments_lexer": "ipython3",
   "version": "3.13.2"
  }
 },
 "nbformat": 4,
 "nbformat_minor": 5
}
